{
 "cells": [
  {
   "cell_type": "markdown",
   "id": "f6a536b1-1a8d-425f-82c0-5155e797f6c0",
   "metadata": {},
   "source": [
    "# IVF (Inverted File Index) - Similarity Search\n",
    "\n",
    "* [Vector Index Basics and the Inverted File Index](https://zilliz.com/blog/vector-index)\n",
    "* [Choosing the Right Vector Index for Your Project](https://zilliz.com/learn/choosing-right-vector-index-for-your-project)\n",
    "* [Visual Embedding Vectors](https://github.com/zilliztech/feder)\n",
    "* [Powering Semantic Similarity Search in Computer Vision with State of the Art Embeddings](https://zilliz.com/learn/embedding-generation)"
   ]
  },
  {
   "cell_type": "code",
   "execution_count": 3,
   "id": "7beb913a-e057-4a2b-928f-c43dce4b8b67",
   "metadata": {},
   "outputs": [],
   "source": [
    "import os\n",
    "import sys\n",
    "import shutil\n",
    "import pandas as pd\n",
    "import numpy as np\n",
    "\n",
    "from PIL import Image\n",
    "from random import randint\n",
    "from tqdm import tqdm\n",
    "from matplotlib import pyplot as plt\n",
    "from sklearn.metrics.pairwise import cosine_similarity\n",
    "\n",
    "tqdm.pandas()\n",
    "\n",
    "if os.path.exists(\"image_df.pkl\"):\n",
    "    image_df = pd.read_pickle(\"image_df.pkl\")\n",
    "else:\n",
    "    print(\"RUN THE TUTORIAL 1_similarity_search.ipynb\")"
   ]
  },
  {
   "cell_type": "code",
   "execution_count": 4,
   "id": "9ba58eb9-64b9-4326-b20b-fb8522bf6ec9",
   "metadata": {},
   "outputs": [],
   "source": [
    "def plot_similar(df: pd.DataFrame, embedding_col: str, query_index: np.array, k_neighbors=5):\n",
    "    \"\"\"\n",
    "    Helper function to take a dataframe index as input query \n",
    "    and display the k nearest neighbors\n",
    "    \"\"\"\n",
    "    # Calculate pairwise cosine similarities between query and all rows\n",
    "    similarities = cosine_similarity([df[embedding_col][query_index]],\n",
    "                                     df[embedding_col].values.tolist())[0]\n",
    "    # Find nearest neighbor indices\n",
    "    k = k_neighbors + 1\n",
    "    nearest_indices = np.argpartition(similarities, -k)[-k:]\n",
    "    # Exclude the actual query_index from search\n",
    "    nearest_indices = nearest_indices[nearest_indices != query_index]\n",
    "\n",
    "    # Plot input image\n",
    "    with Image.open(df[\"img_path\"][query_index]) as img:\n",
    "        img = img.convert(\"RGB\")\n",
    "        plt.imshow(img)\n",
    "    plt.title(\"Query Product\")\n",
    "\n",
    "    # Plot nearest neighbors images\n",
    "    fig = plt.figure(figsize=(20, 4))\n",
    "    plt.suptitle(\"Similar Products\")\n",
    "    for idx, neighbor in enumerate(nearest_indices):\n",
    "        plt.subplot(1, len(nearest_indices), idx+1)\n",
    "        with Image.open(df[\"img_path\"][neighbor]) as img:\n",
    "            img = img.convert(\"RGB\")\n",
    "            plt.imshow(img)\n",
    "            plt.title(f\"Cosine Similarity: {similarities[neighbor]:.3f}\")\n",
    "    plt.tight_layout()"
   ]
  },
  {
   "cell_type": "code",
   "execution_count": 5,
   "id": "7a4ea786-a7b0-4944-8375-70bc45e7e585",
   "metadata": {},
   "outputs": [],
   "source": [
    "def text_image_search(df: pd.DataFrame, text_query: str, img_emb_col: str, k=5):\n",
    "    \"\"\"\n",
    "    Helper function to take a text query as input and display the k nearest neighbor images\n",
    "    \"\"\"\n",
    "\n",
    "    # Calculate the text embeddings\n",
    "    text_emb = model.encode(text_query).tolist()\n",
    "\n",
    "    # Calculate the pairwise cosine similarities between text query and images from all rows\n",
    "    similarities = cosine_similarity([text_emb], df[img_emb_col].values.tolist())[0]\n",
    "\n",
    "    # Find nearest neighbors\n",
    "    nearest_indices = np.argpartition(similarities, -k)[-k:]\n",
    "\n",
    "    # Print query text\n",
    "    print(f\"Query text: {text_query}\")\n",
    "\n",
    "    # Plot nearest neighbors images\n",
    "    fig = plt.figure(figsize=(20, 4))\n",
    "    plt.suptitle(\"Similar Products\")\n",
    "    for idx, neighbor in enumerate(nearest_indices):\n",
    "        plt.subplot(1, len(nearest_indices), idx+1)\n",
    "        with Image.open(df[\"img_path\"][neighbor]) as img:\n",
    "            img = img.convert(\"RGB\")\n",
    "            plt.imshow(img)\n",
    "            plt.title(f\"Cosine Sim: {similarities[neighbor]:.3f}\")\n",
    "    plt.tight_layout()"
   ]
  },
  {
   "cell_type": "code",
   "execution_count": null,
   "id": "90a41b74-d913-46d9-be9c-7702c10f38d3",
   "metadata": {},
   "outputs": [],
   "source": []
  }
 ],
 "metadata": {
  "kernelspec": {
   "display_name": "Python 3 (ipykernel)",
   "language": "python",
   "name": "python3"
  },
  "language_info": {
   "codemirror_mode": {
    "name": "ipython",
    "version": 3
   },
   "file_extension": ".py",
   "mimetype": "text/x-python",
   "name": "python",
   "nbconvert_exporter": "python",
   "pygments_lexer": "ipython3",
   "version": "3.10.11"
  }
 },
 "nbformat": 4,
 "nbformat_minor": 5
}
