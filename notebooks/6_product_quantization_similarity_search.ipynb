{
 "cells": [
  {
   "cell_type": "code",
   "execution_count": null,
   "id": "7df6bfea-d013-417c-afdb-00f1004f3ea2",
   "metadata": {},
   "outputs": [],
   "source": []
  }
 ],
 "metadata": {
  "kernelspec": {
   "display_name": "",
   "name": ""
  },
  "language_info": {
   "name": ""
  }
 },
 "nbformat": 4,
 "nbformat_minor": 5
}
