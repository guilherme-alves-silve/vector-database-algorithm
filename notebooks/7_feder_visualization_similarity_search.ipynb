{
 "cells": [
  {
   "cell_type": "markdown",
   "id": "021e5eb2-57b0-4935-820e-14c98cfc0f59",
   "metadata": {},
   "source": [
    "# Feder (Visualization of Similarity Search algorithms) - Similarity Search\n",
    "\n",
    "* [Feder: A Powerful Visualization Tool for Vector Similarity Search](https://zilliz.com/blog/Visualize-Your-Approximate-Nearest-Neighbor-Search-with-Feder)\n",
    "* [FederPy (Colab)](https://colab.research.google.com/drive/12L_oJPR-yFDlORpPondsqGNTPVsSsUwi#scrollTo=7XRTALSsc2_4)"
   ]
  },
  {
   "cell_type": "code",
   "execution_count": null,
   "id": "05da6381-c193-41a1-a08a-96b30718cc29",
   "metadata": {},
   "outputs": [],
   "source": []
  }
 ],
 "metadata": {
  "kernelspec": {
   "display_name": "",
   "name": ""
  },
  "language_info": {
   "name": ""
  }
 },
 "nbformat": 4,
 "nbformat_minor": 5
}
