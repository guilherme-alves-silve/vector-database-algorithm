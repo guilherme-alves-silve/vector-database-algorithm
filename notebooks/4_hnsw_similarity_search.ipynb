{
 "cells": [
  {
   "cell_type": "markdown",
   "id": "9cb9bcce-3a94-4356-9db8-008a9f2a7175",
   "metadata": {},
   "source": [
    "# Hierarchical Navigable Small Worlds - HNSW\n",
    "* [Hierarchical Navigable Small Worlds - HNSW](https://zilliz.com/blog/hierarchical-navigable-small-worlds-HNSW)\n",
    "* [Vector Search](https://github.com/fzliu/vector-search/)\n",
    "* [Reference code](https://github.com/fzliu/vector-search/blob/main/indexes/hnsw.py)\n",
    "* [Reference notebook](https://github.com/fzliu/vector-search/blob/main/tutorials/2023-03-02_data_science_dojo_00_ann_algorithms.ipynb)"
   ]
  },
  {
   "cell_type": "code",
   "execution_count": 1,
   "id": "d7872860-fe6e-40e6-bcf6-cedff5abaacc",
   "metadata": {},
   "outputs": [],
   "source": [
    "import numpy as np\n",
    "\n",
    "dataset = np.random.normal(size=(1000, 128))\n",
    "\n",
    "layers = 5\n",
    "index = [[] for _ in range(layers)]"
   ]
  },
  {
   "cell_type": "code",
   "execution_count": 2,
   "id": "06ebfc63-7fd4-4e33-8581-a9373232aba2",
   "metadata": {},
   "outputs": [],
   "source": [
    "def _search_layer(graph, entry, query, ef=1):\n",
    "    best = (np.linalg.norm(graph[entry][0] - query), entry)\n",
    "    nearest_neighbors = [best]\n",
    "    visited = set(best)\n",
    "    candidates = [best]\n",
    "    heapify(candidates)\n",
    "\n",
    "    # find top-k nearest neighbors\n",
    "    while candidates:\n",
    "        candidate = heappop(candidates)\n",
    "        if nearest_neighbors[-1][0] < candidate[0]:\n",
    "            break\n",
    "\n",
    "        # loop through all nearest neighbors to the candidate vector\n",
    "        for neighbor_entry in graph[candidate[1]][1]:\n",
    "            distance = np.linalg.norm(graph[neighbor_entry][0] - query)\n",
    "            if (distance, neighbor_entry) not in visited:\n",
    "                visited.add((distance, neighbor_entry))\n",
    "\n",
    "                # push only \"better\" vectors into candidate heap\n",
    "                if distance < nearest_neighbors[-1][0] or len(nearest_neighbors) < ef:\n",
    "                    heappush(candidates, (distance, neighbor_entry))\n",
    "                    insort(nearest_neighbors, (distance, neighbor_entry))\n",
    "                    if len(nearest_neighbors) > ef:\n",
    "                        nearest_neighbors.pop()\n",
    "\n",
    "    return nearest_neighbors"
   ]
  },
  {
   "cell_type": "code",
   "execution_count": 3,
   "id": "a971a1e0-58d8-4648-9141-3d79d678a319",
   "metadata": {},
   "outputs": [],
   "source": [
    "def search(index, query, ef=1):\n",
    "    if not index[0]:\n",
    "        return []\n",
    "\n",
    "    best_v = 0 # set the initial best vertex to the entry point\n",
    "    for graph in index:\n",
    "        best_d, best_v = _search_layer(graph, best_v, query, ef=1)[0]\n",
    "        if graph[best_v][2]:\n",
    "            best_v = graph[best_v][2]\n",
    "        else:\n",
    "            return _search_layer(graph, best_v, query, ef=ef)"
   ]
  },
  {
   "cell_type": "code",
   "execution_count": 4,
   "id": "7b1654aa-b750-4ff0-84c9-4b2e81454444",
   "metadata": {},
   "outputs": [],
   "source": [
    "def _get_insert_layer(layers, multi_factor):\n",
    "    # multi_factor is used to normalize the distribution\n",
    "    which_layer = -int(np.log(np.random.random()) * multi_factor)\n",
    "    return min(which_layer, layers)"
   ]
  },
  {
   "cell_type": "code",
   "execution_count": 8,
   "id": "bec4247f-7353-4241-bf82-fddb33b31dbf",
   "metadata": {},
   "outputs": [],
   "source": [
    "def insert(index, vector, efc=10):\n",
    "    # if the index is empty, insert the vector into all layers and return\n",
    "    if not index[0]:\n",
    "        i = None\n",
    "        for graph in index[::-1]:\n",
    "            graph.append((vector, [], i))\n",
    "            i = 0\n",
    "        return\n",
    "\n",
    "    layer = _get_insert_layer(1/np.log(layers))\n",
    "    \n",
    "    start_v = 0\n",
    "    for n, graph in enumerate(index):\n",
    "        # perform insertion for layers [layer, layers) only\n",
    "        if n < layer:\n",
    "            _, start_v = _search_layer(graph, start_v, vec, ef=1)[0]\n",
    "        else:\n",
    "            node = (vector, [], len(_index[n+1]) if n < layers-1 else None)\n",
    "            nearest_neighbors = _search_layer(graph, start_v, vector, ef=efc)\n",
    "            for nearest_neighbor in nearest_neighbors:\n",
    "                node[1].append(nearest_neighbor[1]) # outbound connections to NNs\n",
    "                graph[nearest_neighbor[1]][1].append(len(graph)) # inbound connections to node\n",
    "            graph.append(node)\n",
    "        # set the starting vertex to the nearest neighbor in the next layer\n",
    "        start_v = graph[start_v][2]\n",
    "    "
   ]
  },
  {
   "cell_type": "code",
   "execution_count": 9,
   "id": "efa94fdc-28e0-46ab-bdff-995b5760b9b4",
   "metadata": {},
   "outputs": [],
   "source": [
    "insert(index, dataset)"
   ]
  },
  {
   "cell_type": "code",
   "execution_count": 20,
   "id": "a3bb6d9b-4495-4caa-9fbd-d12c496980e6",
   "metadata": {},
   "outputs": [
    {
     "name": "stdout",
     "output_type": "stream",
     "text": [
      "5\n"
     ]
    }
   ],
   "source": [
    "print(len(index))"
   ]
  },
  {
   "cell_type": "code",
   "execution_count": 35,
   "id": "9211e664-acc3-4585-b43e-88abc550c6bb",
   "metadata": {},
   "outputs": [
    {
     "ename": "TypeError",
     "evalue": "search() missing 1 required positional argument: 'query'",
     "output_type": "error",
     "traceback": [
      "\u001b[1;31m---------------------------------------------------------------------------\u001b[0m",
      "\u001b[1;31mTypeError\u001b[0m                                 Traceback (most recent call last)",
      "Cell \u001b[1;32mIn[35], line 1\u001b[0m\n\u001b[1;32m----> 1\u001b[0m \u001b[43msearch\u001b[49m\u001b[43m(\u001b[49m\u001b[43mnp\u001b[49m\u001b[38;5;241;43m.\u001b[39;49m\u001b[43mrandom\u001b[49m\u001b[38;5;241;43m.\u001b[39;49m\u001b[43mrandn\u001b[49m\u001b[43m(\u001b[49m\u001b[38;5;241;43m256\u001b[39;49m\u001b[43m)\u001b[49m\u001b[43m)\u001b[49m\n",
      "\u001b[1;31mTypeError\u001b[0m: search() missing 1 required positional argument: 'query'"
     ]
    }
   ],
   "source": [
    "search(np.random.randn(256))"
   ]
  },
  {
   "cell_type": "code",
   "execution_count": null,
   "id": "9c1ec91f-f2db-44b6-817c-c0ff49a4bd72",
   "metadata": {},
   "outputs": [],
   "source": []
  }
 ],
 "metadata": {
  "kernelspec": {
   "display_name": "Python 3 (ipykernel)",
   "language": "python",
   "name": "python3"
  },
  "language_info": {
   "codemirror_mode": {
    "name": "ipython",
    "version": 3
   },
   "file_extension": ".py",
   "mimetype": "text/x-python",
   "name": "python",
   "nbconvert_exporter": "python",
   "pygments_lexer": "ipython3",
   "version": "3.10.11"
  }
 },
 "nbformat": 4,
 "nbformat_minor": 5
}
